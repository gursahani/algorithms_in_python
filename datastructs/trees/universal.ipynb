{
 "cells": [
  {
   "cell_type": "code",
   "execution_count": 1,
   "metadata": {},
   "outputs": [],
   "source": [
    "class Node:\n",
    "    def __init__(self, value, left=None, right=None):\n",
    "        self.value = value\n",
    "        self.left = left\n",
    "        self.right = right"
   ]
  },
  {
   "cell_type": "code",
   "execution_count": 2,
   "metadata": {},
   "outputs": [],
   "source": [
    "node_right_left1 = Node(1, Node(1), Node(1))\n",
    "node_right1 = Node(0, node_right_left1, Node(0))\n",
    "tree1 = Node(0, Node(1), node_right1)\n",
    "# tree1 looks like:\n",
    "#         0\n",
    "#        / \\\n",
    "#       1   0\n",
    "#          / \\\n",
    "#         1   0\n",
    "#        / \\\n",
    "#       1   1"
   ]
  },
  {
   "cell_type": "code",
   "execution_count": 3,
   "metadata": {},
   "outputs": [],
   "source": [
    "node_right_right2 = Node(4, None, Node(4))\n",
    "node_right2 = Node(4, Node(4), node_right_right2)\n",
    "tree2 = Node(3, Node(2), node_right2)\n",
    "# tree2 looks like:\n",
    "#         3\n",
    "#        / \\\n",
    "#       2   4\n",
    "#          / \\\n",
    "#         4   4\n",
    "#              \\\n",
    "#               4"
   ]
  },
  {
   "cell_type": "code",
   "execution_count": 4,
   "metadata": {},
   "outputs": [],
   "source": [
    "node_right_right3 = Node(3, None, Node(2))\n",
    "node_right3 = Node(3, Node(3), node_right_right3)\n",
    "tree3 = Node(3, Node(3), node_right3)\n",
    "# tree3 looks like:\n",
    "#         3\n",
    "#        / \\\n",
    "#       3   3\n",
    "#          / \\\n",
    "#         3   3\n",
    "#              \\\n",
    "#               2"
   ]
  },
  {
   "cell_type": "code",
   "execution_count": 5,
   "metadata": {},
   "outputs": [],
   "source": [
    "# A function for going through the tree in order.\n",
    "# Use this to test if we got the right tree.\n",
    "def in_order(root):\n",
    "    if root.left:\n",
    "        in_order(root.left)\n",
    "    print(str(root.value) + ', ', end='')\n",
    "    if root.right:\n",
    "        in_order(root.right)"
   ]
  },
  {
   "cell_type": "code",
   "execution_count": 6,
   "metadata": {},
   "outputs": [
    {
     "name": "stdout",
     "output_type": "stream",
     "text": [
      "1, 0, 1, 1, 1, 0, 0, \n",
      "2, 3, 4, 4, 4, 4, \n",
      "3, 3, 3, 3, 3, 2, \n"
     ]
    }
   ],
   "source": [
    "in_order(tree1)\n",
    "print('')\n",
    "in_order(tree2)\n",
    "print('')\n",
    "in_order(tree3)\n",
    "print('')"
   ]
  },
  {
   "cell_type": "code",
   "execution_count": 7,
   "metadata": {},
   "outputs": [],
   "source": [
    "def is_unival(root):\n",
    "    if root is None:\n",
    "        return True\n",
    "    if root.left is not None and root.left.value != root.value:\n",
    "        return False\n",
    "    if root.right is not None and root.right.value != root.value:\n",
    "        return False\n",
    "    if is_unival(root.left) and is_unival(root.right):\n",
    "        return True\n",
    "    return False"
   ]
  },
  {
   "cell_type": "code",
   "execution_count": 8,
   "metadata": {},
   "outputs": [],
   "source": [
    "def count_univals(root):\n",
    "    if root is None:\n",
    "        return 0\n",
    "    \n",
    "    total_count = count_univals(root.left) + count_univals(root.right)\n",
    "    if is_unival(root):\n",
    "        total_count += 1\n",
    "    return total_count"
   ]
  },
  {
   "cell_type": "code",
   "execution_count": 9,
   "metadata": {},
   "outputs": [],
   "source": [
    "def count_univals2(root):\n",
    "    total_count, is_unival = helper(root)\n",
    "    return total_count"
   ]
  },
  {
   "cell_type": "code",
   "execution_count": 10,
   "metadata": {},
   "outputs": [],
   "source": [
    "def helper(root):\n",
    "    if root is None:\n",
    "        return 0, True\n",
    "    \n",
    "    left_count, is_left_unival = helper(root.left)\n",
    "    right_count, is_right_unival = helper(root.right)\n",
    "    \n",
    "    is_unival = True\n",
    "    if not is_left_unival or not is_right_unival:\n",
    "        is_unival = False\n",
    "    if root.left is not None and root.left.value != root.value:\n",
    "        is_unival = False\n",
    "    if root.right is not None and root.right.value != root.value:\n",
    "        is_unival = False\n",
    "    if is_unival:\n",
    "        return left_count + right_count + 1, True\n",
    "    else:\n",
    "        return left_count + right_count, False"
   ]
  },
  {
   "cell_type": "code",
   "execution_count": 11,
   "metadata": {},
   "outputs": [
    {
     "name": "stdout",
     "output_type": "stream",
     "text": [
      "5 should be 5\n",
      "5 should be 5\n",
      "3 should be 3\n",
      "0 should be 0\n"
     ]
    }
   ],
   "source": [
    "print(count_univals(tree1), 'should be 5')\n",
    "print(count_univals(tree2), 'should be 5')\n",
    "print(count_univals(tree3), 'should be 3')\n",
    "print(count_univals(None), 'should be 0')"
   ]
  },
  {
   "cell_type": "code",
   "execution_count": 12,
   "metadata": {},
   "outputs": [
    {
     "name": "stdout",
     "output_type": "stream",
     "text": [
      "5 should be 5\n",
      "5 should be 5\n",
      "3 should be 3\n",
      "0 should be 0\n"
     ]
    }
   ],
   "source": [
    "print(count_univals2(tree1), 'should be 5')\n",
    "print(count_univals2(tree2), 'should be 5')\n",
    "print(count_univals2(tree3), 'should be 3')\n",
    "print(count_univals2(None), 'should be 0')"
   ]
  },
  {
   "cell_type": "code",
   "execution_count": null,
   "metadata": {},
   "outputs": [],
   "source": []
  }
 ],
 "metadata": {
  "kernelspec": {
   "display_name": "Python 3",
   "language": "python",
   "name": "python3"
  },
  "language_info": {
   "codemirror_mode": {
    "name": "ipython",
    "version": 3
   },
   "file_extension": ".py",
   "mimetype": "text/x-python",
   "name": "python",
   "nbconvert_exporter": "python",
   "pygments_lexer": "ipython3",
   "version": "3.6.5"
  }
 },
 "nbformat": 4,
 "nbformat_minor": 2
}
